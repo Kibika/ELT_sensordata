{
  "nbformat": 4,
  "nbformat_minor": 0,
  "metadata": {
    "colab": {
      "name": "extract_load.ipynb",
      "provenance": [],
      "collapsed_sections": [],
      "authorship_tag": "ABX9TyMzyGKcum8JZynSl5ehny+k",
      "include_colab_link": true
    },
    "kernelspec": {
      "display_name": "Python 3",
      "name": "python3"
    },
    "language_info": {
      "name": "python"
    }
  },
  "cells": [
    {
      "cell_type": "markdown",
      "metadata": {
        "id": "view-in-github",
        "colab_type": "text"
      },
      "source": [
        "<a href=\"https://colab.research.google.com/github/Kibika/ELT_sensordata/blob/main/notebooks/extract_load.ipynb\" target=\"_parent\"><img src=\"https://colab.research.google.com/assets/colab-badge.svg\" alt=\"Open In Colab\"/></a>"
      ]
    },
    {
      "cell_type": "code",
      "metadata": {
        "colab": {
          "base_uri": "https://localhost:8080/",
          "height": 1000
        },
        "id": "7HgJ0M4hrJRW",
        "outputId": "837fac57-657c-4650-eb69-0d84cb61206a"
      },
      "source": [
        "!pip install dbt"
      ],
      "execution_count": null,
      "outputs": [
        {
          "name": "stdout",
          "output_type": "stream",
          "text": [
            "Collecting dbt\n",
            "  Downloading dbt-0.20.2-py3-none-any.whl (2.6 kB)\n",
            "Collecting dbt-snowflake==0.20.2\n",
            "  Downloading dbt_snowflake-0.20.2-py3-none-any.whl (16 kB)\n",
            "Collecting dbt-postgres==0.20.2\n",
            "  Downloading dbt_postgres-0.20.2-py3-none-any.whl (12 kB)\n",
            "Collecting dbt-redshift==0.20.2\n",
            "  Downloading dbt_redshift-0.20.2-py3-none-any.whl (11 kB)\n",
            "Collecting dbt-bigquery==0.20.2\n",
            "  Downloading dbt_bigquery-0.20.2-py3-none-any.whl (29 kB)\n",
            "Collecting dbt-core==0.20.2\n",
            "  Downloading dbt_core-0.20.2-py3-none-any.whl (806 kB)\n",
            "\u001b[K     |████████████████████████████████| 806 kB 8.5 MB/s \n",
            "\u001b[?25hCollecting google-cloud-bigquery<3,>=1.25.0\n",
            "  Downloading google_cloud_bigquery-2.26.0-py2.py3-none-any.whl (201 kB)\n",
            "\u001b[K     |████████████████████████████████| 201 kB 56.1 MB/s \n",
            "\u001b[?25hRequirement already satisfied: google-api-core<2,>=1.16.0 in /usr/local/lib/python3.7/dist-packages (from dbt-bigquery==0.20.2->dbt) (1.26.3)\n",
            "Requirement already satisfied: six>=1.14.0 in /usr/local/lib/python3.7/dist-packages (from dbt-bigquery==0.20.2->dbt) (1.15.0)\n",
            "Requirement already satisfied: googleapis-common-protos<2,>=1.6.0 in /usr/local/lib/python3.7/dist-packages (from dbt-bigquery==0.20.2->dbt) (1.53.0)\n",
            "Requirement already satisfied: protobuf<4,>=3.13.0 in /usr/local/lib/python3.7/dist-packages (from dbt-bigquery==0.20.2->dbt) (3.17.3)\n",
            "Collecting google-cloud-core<2,>=1.3.0\n",
            "  Downloading google_cloud_core-1.7.2-py2.py3-none-any.whl (28 kB)\n",
            "Requirement already satisfied: idna<3,>=2.5 in /usr/local/lib/python3.7/dist-packages (from dbt-core==0.20.2->dbt) (2.10)\n",
            "Collecting mashumaro==2.5\n",
            "  Downloading mashumaro-2.5.tar.gz (33 kB)\n",
            "  Installing build dependencies ... \u001b[?25l\u001b[?25hdone\n",
            "  Getting requirements to build wheel ... \u001b[?25l\u001b[?25hdone\n",
            "    Preparing wheel metadata ... \u001b[?25l\u001b[?25hdone\n",
            "Collecting logbook<1.6,>=1.5\n",
            "  Downloading Logbook-1.5.3.tar.gz (85 kB)\n",
            "\u001b[K     |████████████████████████████████| 85 kB 3.9 MB/s \n",
            "\u001b[?25hCollecting hologram==0.0.14\n",
            "  Downloading hologram-0.0.14-py3-none-any.whl (11 kB)\n",
            "Requirement already satisfied: typing-extensions<3.11,>=3.7.4 in /usr/local/lib/python3.7/dist-packages (from dbt-core==0.20.2->dbt) (3.7.4.3)\n",
            "Requirement already satisfied: PyYAML>=3.11 in /usr/local/lib/python3.7/dist-packages (from dbt-core==0.20.2->dbt) (3.13)\n",
            "Requirement already satisfied: networkx<3,>=2.3 in /usr/local/lib/python3.7/dist-packages (from dbt-core==0.20.2->dbt) (2.6.3)\n",
            "Collecting dbt-extractor==0.4.0\n",
            "  Downloading dbt_extractor-0.4.0-cp37-cp37m-manylinux_2_5_x86_64.manylinux1_x86_64.whl (1.0 MB)\n",
            "\u001b[K     |████████████████████████████████| 1.0 MB 32.8 MB/s \n",
            "\u001b[?25hRequirement already satisfied: werkzeug<3.0,>=0.15 in /usr/local/lib/python3.7/dist-packages (from dbt-core==0.20.2->dbt) (1.0.1)\n",
            "Collecting agate<1.6.2,>=1.6\n",
            "  Downloading agate-1.6.1-py2.py3-none-any.whl (98 kB)\n",
            "\u001b[K     |████████████████████████████████| 98 kB 5.4 MB/s \n",
            "\u001b[?25hRequirement already satisfied: Jinja2==2.11.3 in /usr/local/lib/python3.7/dist-packages (from dbt-core==0.20.2->dbt) (2.11.3)\n",
            "Collecting colorama<0.4.5,>=0.3.9\n",
            "  Downloading colorama-0.4.4-py2.py3-none-any.whl (16 kB)\n",
            "Collecting packaging~=20.9\n",
            "  Downloading packaging-20.9-py2.py3-none-any.whl (40 kB)\n",
            "\u001b[K     |████████████████████████████████| 40 kB 4.7 MB/s \n",
            "\u001b[?25hCollecting sqlparse<0.4,>=0.2.3\n",
            "  Downloading sqlparse-0.3.1-py2.py3-none-any.whl (40 kB)\n",
            "\u001b[K     |████████████████████████████████| 40 kB 5.4 MB/s \n",
            "\u001b[?25hCollecting isodate<0.7,>=0.6\n",
            "  Downloading isodate-0.6.0-py2.py3-none-any.whl (45 kB)\n",
            "\u001b[K     |████████████████████████████████| 45 kB 3.4 MB/s \n",
            "\u001b[?25hCollecting json-rpc<2,>=1.12\n",
            "  Downloading json_rpc-1.13.0-py2.py3-none-any.whl (41 kB)\n",
            "\u001b[K     |████████████████████████████████| 41 kB 223 kB/s \n",
            "\u001b[?25hCollecting minimal-snowplow-tracker==0.0.2\n",
            "  Downloading minimal-snowplow-tracker-0.0.2.tar.gz (12 kB)\n",
            "Requirement already satisfied: cffi<2.0.0,>=1.9 in /usr/local/lib/python3.7/dist-packages (from dbt-core==0.20.2->dbt) (1.14.6)\n",
            "Requirement already satisfied: requests<3.0.0 in /usr/local/lib/python3.7/dist-packages (from dbt-core==0.20.2->dbt) (2.23.0)\n",
            "Collecting psycopg2-binary~=2.8\n",
            "  Downloading psycopg2_binary-2.9.1-cp37-cp37m-manylinux_2_17_x86_64.manylinux2014_x86_64.whl (3.4 MB)\n",
            "\u001b[K     |████████████████████████████████| 3.4 MB 49.3 MB/s \n",
            "\u001b[?25hCollecting boto3<2.0.0,>=1.4.4\n",
            "  Downloading boto3-1.18.45-py3-none-any.whl (131 kB)\n",
            "\u001b[K     |████████████████████████████████| 131 kB 58.0 MB/s \n",
            "\u001b[?25hCollecting snowflake-connector-python[secure-local-storage]~=2.4.1\n",
            "  Downloading snowflake_connector_python-2.4.6-cp37-cp37m-manylinux2014_x86_64.whl (13.1 MB)\n",
            "\u001b[K     |████████████████████████████████| 13.1 MB 27 kB/s \n",
            "\u001b[?25hCollecting cryptography<4,>=3.2\n",
            "  Downloading cryptography-3.4.8-cp36-abi3-manylinux_2_24_x86_64.whl (3.0 MB)\n",
            "\u001b[K     |████████████████████████████████| 3.0 MB 25.6 MB/s \n",
            "\u001b[?25hCollecting jsonschema<3.2,>=3.0\n",
            "  Downloading jsonschema-3.1.1-py2.py3-none-any.whl (56 kB)\n",
            "\u001b[K     |████████████████████████████████| 56 kB 4.2 MB/s \n",
            "\u001b[?25hRequirement already satisfied: python-dateutil<2.9,>=2.8 in /usr/local/lib/python3.7/dist-packages (from hologram==0.0.14->dbt-core==0.20.2->dbt) (2.8.2)\n",
            "Requirement already satisfied: MarkupSafe>=0.23 in /usr/local/lib/python3.7/dist-packages (from Jinja2==2.11.3->dbt-core==0.20.2->dbt) (2.0.1)\n",
            "Requirement already satisfied: msgpack>=0.5.6 in /usr/local/lib/python3.7/dist-packages (from mashumaro==2.5->dbt-core==0.20.2->dbt) (1.0.2)\n",
            "Collecting pytimeparse>=1.1.5\n",
            "  Downloading pytimeparse-1.1.8-py2.py3-none-any.whl (10.0 kB)\n",
            "Requirement already satisfied: python-slugify>=1.2.1 in /usr/local/lib/python3.7/dist-packages (from agate<1.6.2,>=1.6->dbt-core==0.20.2->dbt) (5.0.2)\n",
            "Collecting parsedatetime>=2.1\n",
            "  Downloading parsedatetime-2.6-py3-none-any.whl (42 kB)\n",
            "\u001b[K     |████████████████████████████████| 42 kB 1.3 MB/s \n",
            "\u001b[?25hCollecting leather>=0.3.2\n",
            "  Downloading leather-0.3.3-py3-none-any.whl (35 kB)\n",
            "Requirement already satisfied: Babel>=2.0 in /usr/local/lib/python3.7/dist-packages (from agate<1.6.2,>=1.6->dbt-core==0.20.2->dbt) (2.9.1)\n",
            "Requirement already satisfied: pytz>=2015.7 in /usr/local/lib/python3.7/dist-packages (from Babel>=2.0->agate<1.6.2,>=1.6->dbt-core==0.20.2->dbt) (2018.9)\n",
            "Collecting s3transfer<0.6.0,>=0.5.0\n",
            "  Downloading s3transfer-0.5.0-py3-none-any.whl (79 kB)\n",
            "\u001b[K     |████████████████████████████████| 79 kB 6.9 MB/s \n",
            "\u001b[?25hCollecting jmespath<1.0.0,>=0.7.1\n",
            "  Downloading jmespath-0.10.0-py2.py3-none-any.whl (24 kB)\n",
            "Collecting botocore<1.22.0,>=1.21.45\n",
            "  Downloading botocore-1.21.45-py3-none-any.whl (7.9 MB)\n",
            "\u001b[K     |████████████████████████████████| 7.9 MB 50.5 MB/s \n",
            "\u001b[?25hCollecting urllib3<1.27,>=1.25.4\n",
            "  Downloading urllib3-1.26.6-py2.py3-none-any.whl (138 kB)\n",
            "\u001b[K     |████████████████████████████████| 138 kB 53.8 MB/s \n",
            "\u001b[?25hRequirement already satisfied: pycparser in /usr/local/lib/python3.7/dist-packages (from cffi<2.0.0,>=1.9->dbt-core==0.20.2->dbt) (2.20)\n",
            "Requirement already satisfied: google-auth<2.0dev,>=1.21.1 in /usr/local/lib/python3.7/dist-packages (from google-api-core<2,>=1.16.0->dbt-bigquery==0.20.2->dbt) (1.35.0)\n",
            "Requirement already satisfied: setuptools>=40.3.0 in /usr/local/lib/python3.7/dist-packages (from google-api-core<2,>=1.16.0->dbt-bigquery==0.20.2->dbt) (57.4.0)\n",
            "Requirement already satisfied: pyasn1-modules>=0.2.1 in /usr/local/lib/python3.7/dist-packages (from google-auth<2.0dev,>=1.21.1->google-api-core<2,>=1.16.0->dbt-bigquery==0.20.2->dbt) (0.2.8)\n",
            "Requirement already satisfied: cachetools<5.0,>=2.0.0 in /usr/local/lib/python3.7/dist-packages (from google-auth<2.0dev,>=1.21.1->google-api-core<2,>=1.16.0->dbt-bigquery==0.20.2->dbt) (4.2.2)\n",
            "Requirement already satisfied: rsa<5,>=3.1.4 in /usr/local/lib/python3.7/dist-packages (from google-auth<2.0dev,>=1.21.1->google-api-core<2,>=1.16.0->dbt-bigquery==0.20.2->dbt) (4.7.2)\n",
            "Collecting google-api-core[grpc]<3.0.0dev,>=1.29.0\n",
            "  Downloading google_api_core-2.0.1-py2.py3-none-any.whl (92 kB)\n",
            "\u001b[K     |████████████████████████████████| 92 kB 417 kB/s \n",
            "\u001b[?25hCollecting proto-plus>=1.10.0\n",
            "  Downloading proto_plus-1.19.0-py3-none-any.whl (42 kB)\n",
            "\u001b[K     |████████████████████████████████| 42 kB 1.5 MB/s \n",
            "\u001b[?25hRequirement already satisfied: grpcio<2.0dev,>=1.38.1 in /usr/local/lib/python3.7/dist-packages (from google-cloud-bigquery<3,>=1.25.0->dbt-bigquery==0.20.2->dbt) (1.40.0)\n",
            "Collecting google-resumable-media<3.0dev,>=0.6.0\n",
            "  Downloading google_resumable_media-2.0.3-py2.py3-none-any.whl (75 kB)\n",
            "\u001b[K     |████████████████████████████████| 75 kB 4.1 MB/s \n",
            "\u001b[?25hCollecting google-api-core[grpc]<3.0.0dev,>=1.29.0\n",
            "  Downloading google_api_core-2.0.0-py2.py3-none-any.whl (92 kB)\n",
            "\u001b[K     |████████████████████████████████| 92 kB 307 kB/s \n",
            "\u001b[?25h  Downloading google_api_core-1.31.3-py2.py3-none-any.whl (93 kB)\n",
            "\u001b[K     |████████████████████████████████| 93 kB 1.5 MB/s \n",
            "\u001b[?25hCollecting google-crc32c<2.0dev,>=1.0\n",
            "  Downloading google_crc32c-1.2.0-cp37-cp37m-manylinux_2_12_x86_64.manylinux2010_x86_64.whl (38 kB)\n",
            "Requirement already satisfied: pyrsistent>=0.14.0 in /usr/local/lib/python3.7/dist-packages (from jsonschema<3.2,>=3.0->hologram==0.0.14->dbt-core==0.20.2->dbt) (0.18.0)\n",
            "Requirement already satisfied: importlib-metadata in /usr/local/lib/python3.7/dist-packages (from jsonschema<3.2,>=3.0->hologram==0.0.14->dbt-core==0.20.2->dbt) (4.8.1)\n",
            "Requirement already satisfied: attrs>=17.4.0 in /usr/local/lib/python3.7/dist-packages (from jsonschema<3.2,>=3.0->hologram==0.0.14->dbt-core==0.20.2->dbt) (21.2.0)\n",
            "Requirement already satisfied: pyparsing>=2.0.2 in /usr/local/lib/python3.7/dist-packages (from packaging~=20.9->dbt-core==0.20.2->dbt) (2.4.7)\n",
            "Requirement already satisfied: pyasn1<0.5.0,>=0.4.6 in /usr/local/lib/python3.7/dist-packages (from pyasn1-modules>=0.2.1->google-auth<2.0dev,>=1.21.1->google-api-core<2,>=1.16.0->dbt-bigquery==0.20.2->dbt) (0.4.8)\n",
            "Requirement already satisfied: text-unidecode>=1.3 in /usr/local/lib/python3.7/dist-packages (from python-slugify>=1.2.1->agate<1.6.2,>=1.6->dbt-core==0.20.2->dbt) (1.3)\n",
            "Requirement already satisfied: certifi>=2017.4.17 in /usr/local/lib/python3.7/dist-packages (from requests<3.0.0->dbt-core==0.20.2->dbt) (2021.5.30)\n",
            "Collecting urllib3<1.27,>=1.25.4\n",
            "  Downloading urllib3-1.25.11-py2.py3-none-any.whl (127 kB)\n",
            "\u001b[K     |████████████████████████████████| 127 kB 48.6 MB/s \n",
            "\u001b[?25hRequirement already satisfied: chardet<4,>=3.0.2 in /usr/local/lib/python3.7/dist-packages (from requests<3.0.0->dbt-core==0.20.2->dbt) (3.0.4)\n",
            "Collecting oscrypto<2.0.0\n",
            "  Downloading oscrypto-1.2.1-py2.py3-none-any.whl (192 kB)\n",
            "\u001b[K     |████████████████████████████████| 192 kB 60.2 MB/s \n",
            "\u001b[?25hCollecting asn1crypto<2.0.0,>0.24.0\n",
            "  Downloading asn1crypto-1.4.0-py2.py3-none-any.whl (104 kB)\n",
            "\u001b[K     |████████████████████████████████| 104 kB 57.0 MB/s \n",
            "\u001b[?25hCollecting azure-common<2.0.0\n",
            "  Downloading azure_common-1.1.27-py2.py3-none-any.whl (12 kB)\n",
            "Collecting azure-storage-blob<13.0.0,>=12.0.0\n",
            "  Downloading azure_storage_blob-12.9.0-py2.py3-none-any.whl (356 kB)\n",
            "\u001b[K     |████████████████████████████████| 356 kB 49.6 MB/s \n",
            "\u001b[?25hCollecting pycryptodomex!=3.5.0,<4.0.0,>=3.2\n",
            "  Downloading pycryptodomex-3.10.1-cp35-abi3-manylinux2010_x86_64.whl (1.9 MB)\n",
            "\u001b[K     |████████████████████████████████| 1.9 MB 49.6 MB/s \n",
            "\u001b[?25hCollecting pyjwt<3.0.0\n",
            "  Downloading PyJWT-2.1.0-py3-none-any.whl (16 kB)\n",
            "Collecting pyOpenSSL<21.0.0,>=16.2.0\n",
            "  Downloading pyOpenSSL-20.0.1-py2.py3-none-any.whl (54 kB)\n",
            "\u001b[K     |████████████████████████████████| 54 kB 2.6 MB/s \n",
            "\u001b[?25hCollecting keyring!=16.1.0,<22.0.0\n",
            "  Downloading keyring-21.8.0-py3-none-any.whl (32 kB)\n",
            "Collecting msrest>=0.6.21\n",
            "  Downloading msrest-0.6.21-py2.py3-none-any.whl (85 kB)\n",
            "\u001b[K     |████████████████████████████████| 85 kB 3.1 MB/s \n",
            "\u001b[?25hCollecting azure-core<2.0.0,>=1.10.0\n",
            "  Downloading azure_core-1.18.0-py2.py3-none-any.whl (166 kB)\n",
            "\u001b[K     |████████████████████████████████| 166 kB 50.3 MB/s \n",
            "\u001b[?25hCollecting jeepney>=0.4.2\n",
            "  Downloading jeepney-0.7.1-py3-none-any.whl (54 kB)\n",
            "\u001b[K     |████████████████████████████████| 54 kB 2.4 MB/s \n",
            "\u001b[?25hCollecting SecretStorage>=3.2\n",
            "  Downloading SecretStorage-3.3.1-py3-none-any.whl (15 kB)\n",
            "Requirement already satisfied: zipp>=0.5 in /usr/local/lib/python3.7/dist-packages (from importlib-metadata->jsonschema<3.2,>=3.0->hologram==0.0.14->dbt-core==0.20.2->dbt) (3.5.0)\n",
            "Requirement already satisfied: requests-oauthlib>=0.5.0 in /usr/local/lib/python3.7/dist-packages (from msrest>=0.6.21->azure-storage-blob<13.0.0,>=12.0.0->snowflake-connector-python[secure-local-storage]~=2.4.1->dbt-snowflake==0.20.2->dbt) (1.3.0)\n",
            "Requirement already satisfied: oauthlib>=3.0.0 in /usr/local/lib/python3.7/dist-packages (from requests-oauthlib>=0.5.0->msrest>=0.6.21->azure-storage-blob<13.0.0,>=12.0.0->snowflake-connector-python[secure-local-storage]~=2.4.1->dbt-snowflake==0.20.2->dbt) (3.1.1)\n",
            "Building wheels for collected packages: mashumaro, minimal-snowplow-tracker, logbook\n",
            "  Building wheel for mashumaro (PEP 517) ... \u001b[?25l\u001b[?25hdone\n",
            "  Created wheel for mashumaro: filename=mashumaro-2.5-py3-none-any.whl size=23152 sha256=5629cd486b2929c612eed9f9e7d7907e1d3bfc597568a641b927647e4a6e3d7d\n",
            "  Stored in directory: /root/.cache/pip/wheels/90/95/f3/3092f8bc5f83cbfb7945eaea58e35a8d1814f1feddfaac9529\n",
            "  Building wheel for minimal-snowplow-tracker (setup.py) ... \u001b[?25l\u001b[?25hdone\n",
            "  Created wheel for minimal-snowplow-tracker: filename=minimal_snowplow_tracker-0.0.2-py3-none-any.whl size=17815 sha256=1fc210eb04de194fdf2bf1a849417d59821337dffb10f3c4bd507c0c101da30c\n",
            "  Stored in directory: /root/.cache/pip/wheels/9d/ee/55/8faefee41ca3bccb25152e0159002567575047be7ef1ce8ac1\n",
            "  Building wheel for logbook (setup.py) ... \u001b[?25l\u001b[?25hdone\n",
            "  Created wheel for logbook: filename=Logbook-1.5.3-cp37-cp37m-linux_x86_64.whl size=66393 sha256=0db3a7c36cbe040200c753d7360f6bd985fb36c99f233c65e0feb817eb10b02c\n",
            "  Stored in directory: /root/.cache/pip/wheels/95/4b/a3/fc9b9d17a06a956767a8dc74058ba64d4306653df2289094cc\n",
            "Successfully built mashumaro minimal-snowplow-tracker logbook\n",
            "Installing collected packages: urllib3, jmespath, isodate, botocore, s3transfer, pytimeparse, parsedatetime, packaging, msrest, leather, jsonschema, jeepney, cryptography, azure-core, asn1crypto, sqlparse, SecretStorage, pyOpenSSL, pyjwt, pycryptodomex, oscrypto, minimal-snowplow-tracker, mashumaro, logbook, json-rpc, hologram, google-crc32c, google-api-core, dbt-extractor, colorama, boto3, azure-storage-blob, azure-common, agate, snowflake-connector-python, psycopg2-binary, proto-plus, keyring, google-resumable-media, google-cloud-core, dbt-core, google-cloud-bigquery, dbt-postgres, dbt-snowflake, dbt-redshift, dbt-bigquery, dbt\n",
            "  Attempting uninstall: urllib3\n",
            "    Found existing installation: urllib3 1.24.3\n",
            "    Uninstalling urllib3-1.24.3:\n",
            "      Successfully uninstalled urllib3-1.24.3\n",
            "  Attempting uninstall: packaging\n",
            "    Found existing installation: packaging 21.0\n",
            "    Uninstalling packaging-21.0:\n",
            "      Successfully uninstalled packaging-21.0\n",
            "  Attempting uninstall: jsonschema\n",
            "    Found existing installation: jsonschema 2.6.0\n",
            "    Uninstalling jsonschema-2.6.0:\n",
            "      Successfully uninstalled jsonschema-2.6.0\n",
            "  Attempting uninstall: sqlparse\n",
            "    Found existing installation: sqlparse 0.4.2\n",
            "    Uninstalling sqlparse-0.4.2:\n",
            "      Successfully uninstalled sqlparse-0.4.2\n",
            "  Attempting uninstall: google-api-core\n",
            "    Found existing installation: google-api-core 1.26.3\n",
            "    Uninstalling google-api-core-1.26.3:\n",
            "      Successfully uninstalled google-api-core-1.26.3\n",
            "  Attempting uninstall: google-resumable-media\n",
            "    Found existing installation: google-resumable-media 0.4.1\n",
            "    Uninstalling google-resumable-media-0.4.1:\n",
            "      Successfully uninstalled google-resumable-media-0.4.1\n",
            "  Attempting uninstall: google-cloud-core\n",
            "    Found existing installation: google-cloud-core 1.0.3\n",
            "    Uninstalling google-cloud-core-1.0.3:\n",
            "      Successfully uninstalled google-cloud-core-1.0.3\n",
            "  Attempting uninstall: google-cloud-bigquery\n",
            "    Found existing installation: google-cloud-bigquery 1.21.0\n",
            "    Uninstalling google-cloud-bigquery-1.21.0:\n",
            "      Successfully uninstalled google-cloud-bigquery-1.21.0\n",
            "\u001b[31mERROR: pip's dependency resolver does not currently take into account all the packages that are installed. This behaviour is the source of the following dependency conflicts.\n",
            "pandas-gbq 0.13.3 requires google-cloud-bigquery[bqstorage,pandas]<2.0.0dev,>=1.11.1, but you have google-cloud-bigquery 2.26.0 which is incompatible.\n",
            "nbclient 0.5.4 requires jupyter-client>=6.1.5, but you have jupyter-client 5.3.5 which is incompatible.\n",
            "google-cloud-storage 1.18.1 requires google-resumable-media<0.5.0dev,>=0.3.1, but you have google-resumable-media 2.0.3 which is incompatible.\n",
            "datascience 0.10.6 requires folium==0.2.1, but you have folium 0.8.3 which is incompatible.\u001b[0m\n",
            "Successfully installed SecretStorage-3.3.1 agate-1.6.1 asn1crypto-1.4.0 azure-common-1.1.27 azure-core-1.18.0 azure-storage-blob-12.9.0 boto3-1.18.45 botocore-1.21.45 colorama-0.4.4 cryptography-3.4.8 dbt-0.20.2 dbt-bigquery-0.20.2 dbt-core-0.20.2 dbt-extractor-0.4.0 dbt-postgres-0.20.2 dbt-redshift-0.20.2 dbt-snowflake-0.20.2 google-api-core-1.31.3 google-cloud-bigquery-2.26.0 google-cloud-core-1.7.2 google-crc32c-1.2.0 google-resumable-media-2.0.3 hologram-0.0.14 isodate-0.6.0 jeepney-0.7.1 jmespath-0.10.0 json-rpc-1.13.0 jsonschema-3.1.1 keyring-21.8.0 leather-0.3.3 logbook-1.5.3 mashumaro-2.5 minimal-snowplow-tracker-0.0.2 msrest-0.6.21 oscrypto-1.2.1 packaging-20.9 parsedatetime-2.6 proto-plus-1.19.0 psycopg2-binary-2.9.1 pyOpenSSL-20.0.1 pycryptodomex-3.10.1 pyjwt-2.1.0 pytimeparse-1.1.8 s3transfer-0.5.0 snowflake-connector-python-2.4.6 sqlparse-0.3.1 urllib3-1.25.11\n"
          ]
        },
        {
          "data": {
            "application/vnd.colab-display-data+json": {
              "pip_warning": {
                "packages": [
                  "google"
                ]
              }
            }
          },
          "metadata": {},
          "output_type": "display_data"
        }
      ]
    },
    {
      "cell_type": "code",
      "metadata": {
        "colab": {
          "base_uri": "https://localhost:8080/"
        },
        "id": "SXi9Ov-QqZBp",
        "outputId": "df2ac857-8b71-4237-ace8-96c66424cc0a"
      },
      "source": [
        "!apt-get install openjdk-8-jdk"
      ],
      "execution_count": null,
      "outputs": [
        {
          "name": "stdout",
          "output_type": "stream",
          "text": [
            "Reading package lists... Done\n",
            "Building dependency tree       \n",
            "Reading state information... Done\n",
            "The following additional packages will be installed:\n",
            "  fonts-dejavu-core fonts-dejavu-extra libatk-wrapper-java\n",
            "  libatk-wrapper-java-jni libgail-common libgail18 libgtk2.0-0 libgtk2.0-bin\n",
            "  libgtk2.0-common libxxf86dga1 openjdk-8-jdk-headless openjdk-8-jre\n",
            "  openjdk-8-jre-headless x11-utils\n",
            "Suggested packages:\n",
            "  gvfs openjdk-8-demo openjdk-8-source visualvm icedtea-8-plugin libnss-mdns\n",
            "  fonts-ipafont-gothic fonts-ipafont-mincho fonts-wqy-microhei\n",
            "  fonts-wqy-zenhei fonts-indic mesa-utils\n",
            "The following NEW packages will be installed:\n",
            "  fonts-dejavu-core fonts-dejavu-extra libatk-wrapper-java\n",
            "  libatk-wrapper-java-jni libgail-common libgail18 libgtk2.0-0 libgtk2.0-bin\n",
            "  libgtk2.0-common libxxf86dga1 openjdk-8-jdk openjdk-8-jdk-headless\n",
            "  openjdk-8-jre openjdk-8-jre-headless x11-utils\n",
            "0 upgraded, 15 newly installed, 0 to remove and 37 not upgraded.\n",
            "Need to get 43.5 MB of archives.\n",
            "After this operation, 163 MB of additional disk space will be used.\n",
            "Get:1 http://archive.ubuntu.com/ubuntu bionic/main amd64 libxxf86dga1 amd64 2:1.1.4-1 [13.7 kB]\n",
            "Get:2 http://archive.ubuntu.com/ubuntu bionic/main amd64 fonts-dejavu-core all 2.37-1 [1,041 kB]\n",
            "Get:3 http://archive.ubuntu.com/ubuntu bionic/main amd64 fonts-dejavu-extra all 2.37-1 [1,953 kB]\n",
            "Get:4 http://archive.ubuntu.com/ubuntu bionic/main amd64 x11-utils amd64 7.7+3build1 [196 kB]\n",
            "Get:5 http://archive.ubuntu.com/ubuntu bionic/main amd64 libatk-wrapper-java all 0.33.3-20ubuntu0.1 [34.7 kB]\n",
            "Get:6 http://archive.ubuntu.com/ubuntu bionic/main amd64 libatk-wrapper-java-jni amd64 0.33.3-20ubuntu0.1 [28.3 kB]\n",
            "Get:7 http://archive.ubuntu.com/ubuntu bionic/main amd64 libgtk2.0-common all 2.24.32-1ubuntu1 [125 kB]\n",
            "Get:8 http://archive.ubuntu.com/ubuntu bionic/main amd64 libgtk2.0-0 amd64 2.24.32-1ubuntu1 [1,769 kB]\n",
            "Get:9 http://archive.ubuntu.com/ubuntu bionic/main amd64 libgail18 amd64 2.24.32-1ubuntu1 [14.2 kB]\n",
            "Get:10 http://archive.ubuntu.com/ubuntu bionic/main amd64 libgail-common amd64 2.24.32-1ubuntu1 [112 kB]\n",
            "Get:11 http://archive.ubuntu.com/ubuntu bionic/main amd64 libgtk2.0-bin amd64 2.24.32-1ubuntu1 [7,536 B]\n",
            "Get:12 http://archive.ubuntu.com/ubuntu bionic-updates/universe amd64 openjdk-8-jre-headless amd64 8u292-b10-0ubuntu1~18.04 [28.2 MB]\n",
            "Get:13 http://archive.ubuntu.com/ubuntu bionic-updates/universe amd64 openjdk-8-jre amd64 8u292-b10-0ubuntu1~18.04 [69.6 kB]\n",
            "Get:14 http://archive.ubuntu.com/ubuntu bionic-updates/universe amd64 openjdk-8-jdk-headless amd64 8u292-b10-0ubuntu1~18.04 [8,284 kB]\n",
            "Get:15 http://archive.ubuntu.com/ubuntu bionic-updates/universe amd64 openjdk-8-jdk amd64 8u292-b10-0ubuntu1~18.04 [1,644 kB]\n",
            "Fetched 43.5 MB in 3s (13.2 MB/s)\n",
            "Selecting previously unselected package libxxf86dga1:amd64.\n",
            "(Reading database ... 155013 files and directories currently installed.)\n",
            "Preparing to unpack .../00-libxxf86dga1_2%3a1.1.4-1_amd64.deb ...\n",
            "Unpacking libxxf86dga1:amd64 (2:1.1.4-1) ...\n",
            "Selecting previously unselected package fonts-dejavu-core.\n",
            "Preparing to unpack .../01-fonts-dejavu-core_2.37-1_all.deb ...\n",
            "Unpacking fonts-dejavu-core (2.37-1) ...\n",
            "Selecting previously unselected package fonts-dejavu-extra.\n",
            "Preparing to unpack .../02-fonts-dejavu-extra_2.37-1_all.deb ...\n",
            "Unpacking fonts-dejavu-extra (2.37-1) ...\n",
            "Selecting previously unselected package x11-utils.\n",
            "Preparing to unpack .../03-x11-utils_7.7+3build1_amd64.deb ...\n",
            "Unpacking x11-utils (7.7+3build1) ...\n",
            "Selecting previously unselected package libatk-wrapper-java.\n",
            "Preparing to unpack .../04-libatk-wrapper-java_0.33.3-20ubuntu0.1_all.deb ...\n",
            "Unpacking libatk-wrapper-java (0.33.3-20ubuntu0.1) ...\n",
            "Selecting previously unselected package libatk-wrapper-java-jni:amd64.\n",
            "Preparing to unpack .../05-libatk-wrapper-java-jni_0.33.3-20ubuntu0.1_amd64.deb ...\n",
            "Unpacking libatk-wrapper-java-jni:amd64 (0.33.3-20ubuntu0.1) ...\n",
            "Selecting previously unselected package libgtk2.0-common.\n",
            "Preparing to unpack .../06-libgtk2.0-common_2.24.32-1ubuntu1_all.deb ...\n",
            "Unpacking libgtk2.0-common (2.24.32-1ubuntu1) ...\n",
            "Selecting previously unselected package libgtk2.0-0:amd64.\n",
            "Preparing to unpack .../07-libgtk2.0-0_2.24.32-1ubuntu1_amd64.deb ...\n",
            "Unpacking libgtk2.0-0:amd64 (2.24.32-1ubuntu1) ...\n",
            "Selecting previously unselected package libgail18:amd64.\n",
            "Preparing to unpack .../08-libgail18_2.24.32-1ubuntu1_amd64.deb ...\n",
            "Unpacking libgail18:amd64 (2.24.32-1ubuntu1) ...\n",
            "Selecting previously unselected package libgail-common:amd64.\n",
            "Preparing to unpack .../09-libgail-common_2.24.32-1ubuntu1_amd64.deb ...\n",
            "Unpacking libgail-common:amd64 (2.24.32-1ubuntu1) ...\n",
            "Selecting previously unselected package libgtk2.0-bin.\n",
            "Preparing to unpack .../10-libgtk2.0-bin_2.24.32-1ubuntu1_amd64.deb ...\n",
            "Unpacking libgtk2.0-bin (2.24.32-1ubuntu1) ...\n",
            "Selecting previously unselected package openjdk-8-jre-headless:amd64.\n",
            "Preparing to unpack .../11-openjdk-8-jre-headless_8u292-b10-0ubuntu1~18.04_amd64.deb ...\n",
            "Unpacking openjdk-8-jre-headless:amd64 (8u292-b10-0ubuntu1~18.04) ...\n",
            "Selecting previously unselected package openjdk-8-jre:amd64.\n",
            "Preparing to unpack .../12-openjdk-8-jre_8u292-b10-0ubuntu1~18.04_amd64.deb ...\n",
            "Unpacking openjdk-8-jre:amd64 (8u292-b10-0ubuntu1~18.04) ...\n",
            "Selecting previously unselected package openjdk-8-jdk-headless:amd64.\n",
            "Preparing to unpack .../13-openjdk-8-jdk-headless_8u292-b10-0ubuntu1~18.04_amd64.deb ...\n",
            "Unpacking openjdk-8-jdk-headless:amd64 (8u292-b10-0ubuntu1~18.04) ...\n",
            "Selecting previously unselected package openjdk-8-jdk:amd64.\n",
            "Preparing to unpack .../14-openjdk-8-jdk_8u292-b10-0ubuntu1~18.04_amd64.deb ...\n",
            "Unpacking openjdk-8-jdk:amd64 (8u292-b10-0ubuntu1~18.04) ...\n",
            "Setting up libgtk2.0-common (2.24.32-1ubuntu1) ...\n",
            "Setting up fonts-dejavu-core (2.37-1) ...\n",
            "Setting up libxxf86dga1:amd64 (2:1.1.4-1) ...\n",
            "Setting up fonts-dejavu-extra (2.37-1) ...\n",
            "Setting up openjdk-8-jre-headless:amd64 (8u292-b10-0ubuntu1~18.04) ...\n",
            "update-alternatives: using /usr/lib/jvm/java-8-openjdk-amd64/jre/bin/orbd to provide /usr/bin/orbd (orbd) in auto mode\n",
            "update-alternatives: using /usr/lib/jvm/java-8-openjdk-amd64/jre/bin/servertool to provide /usr/bin/servertool (servertool) in auto mode\n",
            "update-alternatives: using /usr/lib/jvm/java-8-openjdk-amd64/jre/bin/tnameserv to provide /usr/bin/tnameserv (tnameserv) in auto mode\n",
            "Setting up libgtk2.0-0:amd64 (2.24.32-1ubuntu1) ...\n",
            "Setting up libgail18:amd64 (2.24.32-1ubuntu1) ...\n",
            "Setting up openjdk-8-jdk-headless:amd64 (8u292-b10-0ubuntu1~18.04) ...\n",
            "update-alternatives: using /usr/lib/jvm/java-8-openjdk-amd64/bin/idlj to provide /usr/bin/idlj (idlj) in auto mode\n",
            "update-alternatives: using /usr/lib/jvm/java-8-openjdk-amd64/bin/wsimport to provide /usr/bin/wsimport (wsimport) in auto mode\n",
            "update-alternatives: using /usr/lib/jvm/java-8-openjdk-amd64/bin/jsadebugd to provide /usr/bin/jsadebugd (jsadebugd) in auto mode\n",
            "update-alternatives: using /usr/lib/jvm/java-8-openjdk-amd64/bin/native2ascii to provide /usr/bin/native2ascii (native2ascii) in auto mode\n",
            "update-alternatives: using /usr/lib/jvm/java-8-openjdk-amd64/bin/javah to provide /usr/bin/javah (javah) in auto mode\n",
            "update-alternatives: using /usr/lib/jvm/java-8-openjdk-amd64/bin/hsdb to provide /usr/bin/hsdb (hsdb) in auto mode\n",
            "update-alternatives: using /usr/lib/jvm/java-8-openjdk-amd64/bin/clhsdb to provide /usr/bin/clhsdb (clhsdb) in auto mode\n",
            "update-alternatives: using /usr/lib/jvm/java-8-openjdk-amd64/bin/extcheck to provide /usr/bin/extcheck (extcheck) in auto mode\n",
            "update-alternatives: using /usr/lib/jvm/java-8-openjdk-amd64/bin/schemagen to provide /usr/bin/schemagen (schemagen) in auto mode\n",
            "update-alternatives: using /usr/lib/jvm/java-8-openjdk-amd64/bin/xjc to provide /usr/bin/xjc (xjc) in auto mode\n",
            "update-alternatives: using /usr/lib/jvm/java-8-openjdk-amd64/bin/jhat to provide /usr/bin/jhat (jhat) in auto mode\n",
            "update-alternatives: using /usr/lib/jvm/java-8-openjdk-amd64/bin/wsgen to provide /usr/bin/wsgen (wsgen) in auto mode\n",
            "Setting up x11-utils (7.7+3build1) ...\n",
            "Setting up libgail-common:amd64 (2.24.32-1ubuntu1) ...\n",
            "Setting up libatk-wrapper-java (0.33.3-20ubuntu0.1) ...\n",
            "Setting up libgtk2.0-bin (2.24.32-1ubuntu1) ...\n",
            "Setting up libatk-wrapper-java-jni:amd64 (0.33.3-20ubuntu0.1) ...\n",
            "Setting up openjdk-8-jre:amd64 (8u292-b10-0ubuntu1~18.04) ...\n",
            "update-alternatives: using /usr/lib/jvm/java-8-openjdk-amd64/jre/bin/policytool to provide /usr/bin/policytool (policytool) in auto mode\n",
            "Setting up openjdk-8-jdk:amd64 (8u292-b10-0ubuntu1~18.04) ...\n",
            "update-alternatives: using /usr/lib/jvm/java-8-openjdk-amd64/bin/appletviewer to provide /usr/bin/appletviewer (appletviewer) in auto mode\n",
            "update-alternatives: using /usr/lib/jvm/java-8-openjdk-amd64/bin/jconsole to provide /usr/bin/jconsole (jconsole) in auto mode\n",
            "Processing triggers for man-db (2.8.3-2ubuntu0.1) ...\n",
            "Processing triggers for hicolor-icon-theme (0.17-2) ...\n",
            "Processing triggers for fontconfig (2.12.6-0ubuntu2) ...\n",
            "Processing triggers for mime-support (3.60ubuntu1) ...\n",
            "Processing triggers for libc-bin (2.27-3ubuntu1.3) ...\n",
            "/sbin/ldconfig.real: /usr/local/lib/python3.7/dist-packages/ideep4py/lib/libmkldnn.so.0 is not a symbolic link\n",
            "\n"
          ]
        }
      ]
    },
    {
      "cell_type": "code",
      "metadata": {
        "id": "TuyI22BuqZEb"
      },
      "source": [
        "!wget -q https://downloads.apache.org/spark/spark-3.1.2/spark-3.1.2-bin-hadoop2.7.tgz"
      ],
      "execution_count": null,
      "outputs": []
    },
    {
      "cell_type": "code",
      "metadata": {
        "id": "ViBuE7XEqZTz"
      },
      "source": [
        "!tar xf spark-3.1.2-bin-hadoop2.7.tgz "
      ],
      "execution_count": null,
      "outputs": []
    },
    {
      "cell_type": "code",
      "metadata": {
        "id": "b7nLTIObvVUG"
      },
      "source": [
        "!pip install -q findspark"
      ],
      "execution_count": null,
      "outputs": []
    },
    {
      "cell_type": "code",
      "metadata": {
        "colab": {
          "base_uri": "https://localhost:8080/"
        },
        "id": "DQUyoL7owIop",
        "outputId": "36564646-ef67-443e-db0c-f9dca52da9a4"
      },
      "source": [
        "!pip install -U pyarrow"
      ],
      "execution_count": null,
      "outputs": [
        {
          "name": "stdout",
          "output_type": "stream",
          "text": [
            "Requirement already satisfied: pyarrow in /usr/local/lib/python3.7/dist-packages (3.0.0)\n",
            "Collecting pyarrow\n",
            "  Downloading pyarrow-5.0.0-cp37-cp37m-manylinux2014_x86_64.whl (23.6 MB)\n",
            "\u001b[K     |████████████████████████████████| 23.6 MB 127 kB/s \n",
            "\u001b[?25hRequirement already satisfied: numpy>=1.16.6 in /usr/local/lib/python3.7/dist-packages (from pyarrow) (1.19.5)\n",
            "Installing collected packages: pyarrow\n",
            "  Attempting uninstall: pyarrow\n",
            "    Found existing installation: pyarrow 3.0.0\n",
            "    Uninstalling pyarrow-3.0.0:\n",
            "      Successfully uninstalled pyarrow-3.0.0\n",
            "Successfully installed pyarrow-5.0.0\n"
          ]
        }
      ]
    },
    {
      "cell_type": "code",
      "metadata": {
        "colab": {
          "base_uri": "https://localhost:8080/"
        },
        "id": "zVMQRoZbwhzU",
        "outputId": "b6b09b71-daad-4989-a918-a29fbbb0b2ee"
      },
      "source": [
        "ls /usr/lib/jvm/"
      ],
      "execution_count": null,
      "outputs": [
        {
          "name": "stdout",
          "output_type": "stream",
          "text": [
            "\u001b[0m\u001b[01;36mdefault-java\u001b[0m@               \u001b[01;34mjava-11-openjdk-amd64\u001b[0m/     \u001b[01;34mjava-8-openjdk-amd64\u001b[0m/\n",
            "\u001b[01;36mjava-1.11.0-openjdk-amd64\u001b[0m@  \u001b[01;36mjava-1.8.0-openjdk-amd64\u001b[0m@\n"
          ]
        }
      ]
    },
    {
      "cell_type": "code",
      "metadata": {
        "id": "_sZA2UvLwTbF"
      },
      "source": [
        "import os\n",
        "os.environ[\"JAVA_HOME\"] = \"/usr/lib/jvm/java-8-openjdk-amd64\"\n",
        "os.environ[\"SPARK_HOME\"] = \"/content/spark-3.1.2-bin-hadoop2.7\""
      ],
      "execution_count": null,
      "outputs": []
    },
    {
      "cell_type": "code",
      "metadata": {
        "id": "t09WSjhnygz_"
      },
      "source": [
        "import findspark\n",
        "findspark.add_packages('mysql:mysql-connector-java:8.0.11')\n",
        "findspark.init()"
      ],
      "execution_count": null,
      "outputs": []
    },
    {
      "cell_type": "code",
      "metadata": {
        "id": "YEnMGITpyg1v"
      },
      "source": [
        "from pyspark.sql import SparkSession\n",
        "from pyspark import SparkContext\n",
        "from pyspark.sql import SQLContext\n",
        "from pyspark.sql.types import *\n",
        "# spark = SparkSession.builder.getOrCreate()\n",
        "sc = SparkContext('local')\n",
        "sqlContext = SQLContext(sc)"
      ],
      "execution_count": null,
      "outputs": []
    },
    {
      "cell_type": "code",
      "metadata": {
        "id": "KaD4eeSBVqgI"
      },
      "source": [
        "# sc.stop()"
      ],
      "execution_count": null,
      "outputs": []
    },
    {
      "cell_type": "code",
      "metadata": {
        "colab": {
          "base_uri": "https://localhost:8080/"
        },
        "id": "I-G7jq-fuwRA",
        "outputId": "eb5a3c73-69b5-4506-d94b-832a80bb1ecc"
      },
      "source": [
        "from google.colab import drive\n",
        "drive.mount('/content/drive')"
      ],
      "execution_count": null,
      "outputs": [
        {
          "name": "stdout",
          "output_type": "stream",
          "text": [
            "Mounted at /content/drive\n"
          ]
        }
      ]
    },
    {
      "cell_type": "code",
      "metadata": {
        "id": "g-_4ZgIWw5oC"
      },
      "source": [
        "# cd '/content/drive/MyDrive/speech'"
      ],
      "execution_count": null,
      "outputs": []
    },
    {
      "cell_type": "code",
      "metadata": {
        "id": "37zrePB2pcBa"
      },
      "source": [
        "# log_txt=sc.textFile(\"/content/drive/MyDrive/speech/I80_davis.txt\")\n",
        "log_txt=sc.textFile(\"/content/drive/MyDrive/speech/d04_text_station_raw_2016_08_22.txt\")"
      ],
      "execution_count": null,
      "outputs": []
    },
    {
      "cell_type": "code",
      "metadata": {
        "colab": {
          "base_uri": "https://localhost:8080/"
        },
        "id": "xsefrekXqsTD",
        "outputId": "1e4fef1d-402f-43e7-b768-078cd3a06769"
      },
      "source": [
        "log_txt.take(1)"
      ],
      "execution_count": null,
      "outputs": [
        {
          "data": {
            "text/plain": [
              "['08/22/2016 00:00:06,400001,1,.0061,86,0,0,0,2,.0117,86,0,0,0,1,.0067,71,,,,,,,,,']"
            ]
          },
          "execution_count": 15,
          "metadata": {},
          "output_type": "execute_result"
        }
      ]
    },
    {
      "cell_type": "code",
      "metadata": {
        "id": "D-vK5V6-vado"
      },
      "source": [
        "# header = log_txt.first()"
      ],
      "execution_count": null,
      "outputs": []
    },
    {
      "cell_type": "code",
      "metadata": {
        "id": "f-_jxpp7u2ic"
      },
      "source": [
        "temp_var = log_txt.map(lambda k: k.split(\",\"))\n"
      ],
      "execution_count": null,
      "outputs": []
    },
    {
      "cell_type": "code",
      "metadata": {
        "id": "7KCtLvcWvf0j"
      },
      "source": [
        "# log_txt = log_txt.filter(lambda line: line != header)\n"
      ],
      "execution_count": null,
      "outputs": []
    },
    {
      "cell_type": "code",
      "metadata": {
        "colab": {
          "base_uri": "https://localhost:8080/"
        },
        "id": "6c49lDOCvFlV",
        "outputId": "038b489a-a5e7-4a83-fd95-1b11cd1e8caf"
      },
      "source": [
        "log_df=temp_var.toDF()\n",
        "log_df.show(2)"
      ],
      "execution_count": null,
      "outputs": [
        {
          "name": "stdout",
          "output_type": "stream",
          "text": [
            "+-------------------+------+---+-----+---+---+-----+---+---+-----+---+---+---+---+---+-----+---+---+---+---+---+---+---+---+---+---+\n",
            "|                 _1|    _2| _3|   _4| _5| _6|   _7| _8| _9|  _10|_11|_12|_13|_14|_15|  _16|_17|_18|_19|_20|_21|_22|_23|_24|_25|_26|\n",
            "+-------------------+------+---+-----+---+---+-----+---+---+-----+---+---+---+---+---+-----+---+---+---+---+---+---+---+---+---+---+\n",
            "|08/22/2016 00:00:06|400001|  1|.0061| 86|  0|    0|  0|  2|.0117| 86|  0|  0|  0|  1|.0067| 71|   |   |   |   |   |   |   |   |   |\n",
            "|08/22/2016 00:00:06|400010|  1|.0067| 78|  3|.0206| 71|  4|.0228| 78|  3|.02| 65|   |     |   |   |   |   |   |   |   |   |   |   |\n",
            "+-------------------+------+---+-----+---+---+-----+---+---+-----+---+---+---+---+---+-----+---+---+---+---+---+---+---+---+---+---+\n",
            "only showing top 2 rows\n",
            "\n"
          ]
        }
      ]
    },
    {
      "cell_type": "code",
      "metadata": {
        "id": "ImuQpSLRBwPJ"
      },
      "source": [
        "# log_df.printSchema()"
      ],
      "execution_count": null,
      "outputs": []
    },
    {
      "cell_type": "code",
      "metadata": {
        "id": "5a5jYs9zCOqL"
      },
      "source": [
        "newColumns = [\"utc_time_id\", \"source_id\", \"primary_link_source_flag\", \"avg_speed\",\n",
        "              \"avg_flow\", \"avg_occ\", \"avg_freeflow_speed\", \"avg_travel_time\",\n",
        "              \"high_quality_samples\", \"samples_below_100pct_ff\", \"samples_below_95pct_ff\",\n",
        "              \"samples_below_90pct_ff\", \"samples_below_85pct_ff\", \"samples_below_80pct_ff\",\n",
        "              \"samples_below_75pct_ff\", \"samples_below_70pct_ff\", \"samples_below_65pct_ff\",\n",
        "              \"samples_below_60pct_ff\", \"samples_below_55pct_ff\", \"samples_below_50pct_ff\",\n",
        "              \"samples_below_45pct_ff\", \"samples_below_40pct_ff\", \"samples_below_35pct_ff\",\n",
        "              \"samples_below_30pct_ff\", \"samples_below_25pct_ff\", \"samples_below_20pct_ff\"]"
      ],
      "execution_count": null,
      "outputs": []
    },
    {
      "cell_type": "code",
      "metadata": {
        "id": "Kjs2JRuOCV3k"
      },
      "source": [
        "log_df = log_df.toDF(*newColumns)"
      ],
      "execution_count": null,
      "outputs": []
    },
    {
      "cell_type": "code",
      "metadata": {
        "colab": {
          "base_uri": "https://localhost:8080/"
        },
        "id": "j5JU5NLdCajY",
        "outputId": "cd317199-f0ed-4d30-9452-9c6ffb23847b"
      },
      "source": [
        "log_df.show(2)"
      ],
      "execution_count": null,
      "outputs": [
        {
          "name": "stdout",
          "output_type": "stream",
          "text": [
            "+-------------------+---------+------------------------+---------+--------+-------+------------------+---------------+--------------------+-----------------------+----------------------+----------------------+----------------------+----------------------+----------------------+----------------------+----------------------+----------------------+----------------------+----------------------+----------------------+----------------------+----------------------+----------------------+----------------------+----------------------+\n",
            "|        utc_time_id|source_id|primary_link_source_flag|avg_speed|avg_flow|avg_occ|avg_freeflow_speed|avg_travel_time|high_quality_samples|samples_below_100pct_ff|samples_below_95pct_ff|samples_below_90pct_ff|samples_below_85pct_ff|samples_below_80pct_ff|samples_below_75pct_ff|samples_below_70pct_ff|samples_below_65pct_ff|samples_below_60pct_ff|samples_below_55pct_ff|samples_below_50pct_ff|samples_below_45pct_ff|samples_below_40pct_ff|samples_below_35pct_ff|samples_below_30pct_ff|samples_below_25pct_ff|samples_below_20pct_ff|\n",
            "+-------------------+---------+------------------------+---------+--------+-------+------------------+---------------+--------------------+-----------------------+----------------------+----------------------+----------------------+----------------------+----------------------+----------------------+----------------------+----------------------+----------------------+----------------------+----------------------+----------------------+----------------------+----------------------+----------------------+----------------------+\n",
            "|08/22/2016 00:00:06|   400001|                       1|    .0061|      86|      0|                 0|              0|                   2|                  .0117|                    86|                     0|                     0|                     0|                     1|                 .0067|                    71|                      |                      |                      |                      |                      |                      |                      |                      |                      |\n",
            "|08/22/2016 00:00:06|   400010|                       1|    .0067|      78|      3|             .0206|             71|                   4|                  .0228|                    78|                     3|                   .02|                    65|                      |                      |                      |                      |                      |                      |                      |                      |                      |                      |                      |                      |\n",
            "+-------------------+---------+------------------------+---------+--------+-------+------------------+---------------+--------------------+-----------------------+----------------------+----------------------+----------------------+----------------------+----------------------+----------------------+----------------------+----------------------+----------------------+----------------------+----------------------+----------------------+----------------------+----------------------+----------------------+----------------------+\n",
            "only showing top 2 rows\n",
            "\n"
          ]
        }
      ]
    },
    {
      "cell_type": "code",
      "metadata": {
        "colab": {
          "base_uri": "https://localhost:8080/"
        },
        "id": "TBeB12KHAUb0",
        "outputId": "d2e6630b-2162-4621-ecd7-ed7fa2e2a063"
      },
      "source": [
        "from pyspark.sql.functions import col, udf, to_timestamp\n",
        "\n",
        "log_df = log_df.withColumn('test', to_timestamp('utc_time_id','MM/dd/yyyy HH:mm:ss'))\n",
        "log_df.show(2)\n",
        "    "
      ],
      "execution_count": null,
      "outputs": [
        {
          "name": "stdout",
          "output_type": "stream",
          "text": [
            "+-------------------+---------+------------------------+---------+--------+-------+------------------+---------------+--------------------+-----------------------+----------------------+----------------------+----------------------+----------------------+----------------------+----------------------+----------------------+----------------------+----------------------+----------------------+----------------------+----------------------+----------------------+----------------------+----------------------+----------------------+-------------------+\n",
            "|        utc_time_id|source_id|primary_link_source_flag|avg_speed|avg_flow|avg_occ|avg_freeflow_speed|avg_travel_time|high_quality_samples|samples_below_100pct_ff|samples_below_95pct_ff|samples_below_90pct_ff|samples_below_85pct_ff|samples_below_80pct_ff|samples_below_75pct_ff|samples_below_70pct_ff|samples_below_65pct_ff|samples_below_60pct_ff|samples_below_55pct_ff|samples_below_50pct_ff|samples_below_45pct_ff|samples_below_40pct_ff|samples_below_35pct_ff|samples_below_30pct_ff|samples_below_25pct_ff|samples_below_20pct_ff|               test|\n",
            "+-------------------+---------+------------------------+---------+--------+-------+------------------+---------------+--------------------+-----------------------+----------------------+----------------------+----------------------+----------------------+----------------------+----------------------+----------------------+----------------------+----------------------+----------------------+----------------------+----------------------+----------------------+----------------------+----------------------+----------------------+-------------------+\n",
            "|08/22/2016 00:00:06|   400001|                       1|    .0061|      86|      0|                 0|              0|                   2|                  .0117|                    86|                     0|                     0|                     0|                     1|                 .0067|                    71|                      |                      |                      |                      |                      |                      |                      |                      |                      |2016-08-22 00:00:06|\n",
            "|08/22/2016 00:00:06|   400010|                       1|    .0067|      78|      3|             .0206|             71|                   4|                  .0228|                    78|                     3|                   .02|                    65|                      |                      |                      |                      |                      |                      |                      |                      |                      |                      |                      |                      |2016-08-22 00:00:06|\n",
            "+-------------------+---------+------------------------+---------+--------+-------+------------------+---------------+--------------------+-----------------------+----------------------+----------------------+----------------------+----------------------+----------------------+----------------------+----------------------+----------------------+----------------------+----------------------+----------------------+----------------------+----------------------+----------------------+----------------------+----------------------+-------------------+\n",
            "only showing top 2 rows\n",
            "\n"
          ]
        }
      ]
    },
    {
      "cell_type": "code",
      "metadata": {
        "colab": {
          "base_uri": "https://localhost:8080/"
        },
        "id": "-uZeb1i2CHOf",
        "outputId": "6da5fd79-0bd0-4380-8741-315af742de07"
      },
      "source": [
        "log_df = log_df.drop(log_df.utc_time_id)\n",
        "log_df.show(2)"
      ],
      "execution_count": null,
      "outputs": [
        {
          "name": "stdout",
          "output_type": "stream",
          "text": [
            "+---------+------------------------+---------+--------+-------+------------------+---------------+--------------------+-----------------------+----------------------+----------------------+----------------------+----------------------+----------------------+----------------------+----------------------+----------------------+----------------------+----------------------+----------------------+----------------------+----------------------+----------------------+----------------------+----------------------+-------------------+\n",
            "|source_id|primary_link_source_flag|avg_speed|avg_flow|avg_occ|avg_freeflow_speed|avg_travel_time|high_quality_samples|samples_below_100pct_ff|samples_below_95pct_ff|samples_below_90pct_ff|samples_below_85pct_ff|samples_below_80pct_ff|samples_below_75pct_ff|samples_below_70pct_ff|samples_below_65pct_ff|samples_below_60pct_ff|samples_below_55pct_ff|samples_below_50pct_ff|samples_below_45pct_ff|samples_below_40pct_ff|samples_below_35pct_ff|samples_below_30pct_ff|samples_below_25pct_ff|samples_below_20pct_ff|               test|\n",
            "+---------+------------------------+---------+--------+-------+------------------+---------------+--------------------+-----------------------+----------------------+----------------------+----------------------+----------------------+----------------------+----------------------+----------------------+----------------------+----------------------+----------------------+----------------------+----------------------+----------------------+----------------------+----------------------+----------------------+-------------------+\n",
            "|   400001|                       1|    .0061|      86|      0|                 0|              0|                   2|                  .0117|                    86|                     0|                     0|                     0|                     1|                 .0067|                    71|                      |                      |                      |                      |                      |                      |                      |                      |                      |2016-08-22 00:00:06|\n",
            "|   400010|                       1|    .0067|      78|      3|             .0206|             71|                   4|                  .0228|                    78|                     3|                   .02|                    65|                      |                      |                      |                      |                      |                      |                      |                      |                      |                      |                      |                      |2016-08-22 00:00:06|\n",
            "+---------+------------------------+---------+--------+-------+------------------+---------------+--------------------+-----------------------+----------------------+----------------------+----------------------+----------------------+----------------------+----------------------+----------------------+----------------------+----------------------+----------------------+----------------------+----------------------+----------------------+----------------------+----------------------+----------------------+-------------------+\n",
            "only showing top 2 rows\n",
            "\n"
          ]
        }
      ]
    },
    {
      "cell_type": "code",
      "metadata": {
        "colab": {
          "base_uri": "https://localhost:8080/"
        },
        "id": "mQWOqgtpCjrQ",
        "outputId": "d1df33e4-e6a1-4087-8861-87cab03e400c"
      },
      "source": [
        "log_df = log_df.withColumnRenamed(\"test\", \"utc_time_id\")\n",
        "log_df.show(20)"
      ],
      "execution_count": null,
      "outputs": [
        {
          "name": "stdout",
          "output_type": "stream",
          "text": [
            "+---------+------------------------+---------+--------+-------+------------------+---------------+--------------------+-----------------------+----------------------+----------------------+----------------------+----------------------+----------------------+----------------------+----------------------+----------------------+----------------------+----------------------+----------------------+----------------------+----------------------+----------------------+----------------------+----------------------+-------------------+\n",
            "|source_id|primary_link_source_flag|avg_speed|avg_flow|avg_occ|avg_freeflow_speed|avg_travel_time|high_quality_samples|samples_below_100pct_ff|samples_below_95pct_ff|samples_below_90pct_ff|samples_below_85pct_ff|samples_below_80pct_ff|samples_below_75pct_ff|samples_below_70pct_ff|samples_below_65pct_ff|samples_below_60pct_ff|samples_below_55pct_ff|samples_below_50pct_ff|samples_below_45pct_ff|samples_below_40pct_ff|samples_below_35pct_ff|samples_below_30pct_ff|samples_below_25pct_ff|samples_below_20pct_ff|        utc_time_id|\n",
            "+---------+------------------------+---------+--------+-------+------------------+---------------+--------------------+-----------------------+----------------------+----------------------+----------------------+----------------------+----------------------+----------------------+----------------------+----------------------+----------------------+----------------------+----------------------+----------------------+----------------------+----------------------+----------------------+----------------------+-------------------+\n",
            "|   400001|                       1|    .0061|      86|      0|                 0|              0|                   2|                  .0117|                    86|                     0|                     0|                     0|                     1|                 .0067|                    71|                      |                      |                      |                      |                      |                      |                      |                      |                      |2016-08-22 00:00:06|\n",
            "|   400010|                       1|    .0067|      78|      3|             .0206|             71|                   4|                  .0228|                    78|                     3|                   .02|                    65|                      |                      |                      |                      |                      |                      |                      |                      |                      |                      |                      |                      |2016-08-22 00:00:06|\n",
            "|   400014|                       2|    .9206|       2|      0|                 0|              0|                   0|                      0|                     0|                     0|                     0|                     0|                     0|                     0|                     0|                      |                      |                      |                      |                      |                      |                      |                      |                      |2016-08-22 00:00:06|\n",
            "|   400017|                       0|        1|       0|      1|             .0061|             89|                   0|                      1|                     0|                     1|                 .0039|                    78|                      |                      |                      |                      |                      |                      |                      |                      |                      |                      |                      |                      |2016-08-22 00:00:06|\n",
            "|   400028|                       0|        0|       0|      4|             .0294|             71|                   1|                  .0072|                    65|                     0|                     0|                     0|                      |                      |                      |                      |                      |                      |                      |                      |                      |                      |                      |                      |2016-08-22 00:00:06|\n",
            "|   400030|                       0|        0|       0|      0|                 0|              0|                   0|                      0|                     0|                      |                      |                      |                      |                      |                      |                      |                      |                      |                      |                      |                      |                      |                      |                      |2016-08-22 00:00:06|\n",
            "|   400040|                       1|    .0044|     149|      2|             .0128|             60|                   2|                  .0172|                    65|                      |                      |                      |                      |                      |                      |                      |                      |                      |                      |                      |                      |                      |                      |                      |2016-08-22 00:00:06|\n",
            "|   400045|                       0|        0|       0|      0|                 0|              0|                   0|                      0|                     0|                     0|                     0|                     0|                      |                      |                      |                      |                      |                      |                      |                      |                      |                      |                      |                      |2016-08-22 00:00:06|\n",
            "|   400052|                       0|        0|       0|      1|             .0089|             61|                   1|                  .0111|                    65|                      |                      |                      |                      |                      |                      |                      |                      |                      |                      |                      |                      |                      |                      |                      |2016-08-22 00:00:06|\n",
            "|   400057|                       0|        0|       0|      2|             .0111|             71|                   7|                  .0461|                    78|                      |                      |                      |                      |                      |                      |                      |                      |                      |                      |                      |                      |                      |                      |                      |2016-08-22 00:00:06|\n",
            "|   400059|                       1|     .005|      86|      2|             .0111|             78|                   1|                   .005|                    86|                      |                      |                      |                      |                      |                      |                      |                      |                      |                      |                      |                      |                      |                      |                      |2016-08-22 00:00:06|\n",
            "|   400065|                       0|        0|       0|      0|                 0|              0|                    |                       |                      |                      |                      |                      |                      |                      |                      |                      |                      |                      |                      |                      |                      |                      |                      |                      |2016-08-22 00:00:06|\n",
            "|   400067|                       2|    .0117|      86|      4|             .0228|             78|                   4|                  .0461|                    71|                     4|                 .0222|                    78|                      |                      |                      |                      |                      |                      |                      |                      |                      |                      |                      |                      |2016-08-22 00:00:06|\n",
            "|   400069|                       0|        0|       0|      0|                 0|              0|                   0|                      0|                     0|                     0|                     0|                     0|                      |                      |                      |                      |                      |                      |                      |                      |                      |                      |                      |                      |2016-08-22 00:00:06|\n",
            "|   400073|                       0|        0|       0|      0|                 0|              0|                    |                       |                      |                      |                      |                      |                      |                      |                      |                      |                      |                      |                      |                      |                      |                      |                      |                      |2016-08-22 00:00:06|\n",
            "|   400074|                       0|        0|       0|      0|                 0|              0|                   0|                      0|                     0|                      |                      |                      |                      |                      |                      |                      |                      |                      |                      |                      |                      |                      |                      |                      |2016-08-22 00:00:06|\n",
            "|   400084|                       0|        0|       0|      2|             .0122|             71|                   2|                  .0156|                    56|                     3|                 .0178|                    78|                      |                      |                      |                      |                      |                      |                      |                      |                      |                      |                      |                      |2016-08-22 00:00:06|\n",
            "|   400085|                       0|        0|       0|      0|                 0|              0|                   0|                      0|                     0|                      |                      |                      |                      |                      |                      |                      |                      |                      |                      |                      |                      |                      |                      |                      |2016-08-22 00:00:06|\n",
            "|   400088|                       1|    .0061|      86|      5|             .0317|             78|                   0|                      0|                     0|                     3|                 .0128|                    78|                      |                      |                      |                      |                      |                      |                      |                      |                      |                      |                      |                      |2016-08-22 00:00:06|\n",
            "|   400096|                       0|        0|       0|      1|              .005|            109|                   2|                    .01|                   109|                      |                      |                      |                      |                      |                      |                      |                      |                      |                      |                      |                      |                      |                      |                      |2016-08-22 00:00:06|\n",
            "+---------+------------------------+---------+--------+-------+------------------+---------------+--------------------+-----------------------+----------------------+----------------------+----------------------+----------------------+----------------------+----------------------+----------------------+----------------------+----------------------+----------------------+----------------------+----------------------+----------------------+----------------------+----------------------+----------------------+-------------------+\n",
            "only showing top 20 rows\n",
            "\n"
          ]
        }
      ]
    },
    {
      "cell_type": "code",
      "metadata": {
        "colab": {
          "base_uri": "https://localhost:8080/"
        },
        "id": "vWGWNCbjDN5y",
        "outputId": "3ff43f7e-0f43-4df9-f29a-022131603432"
      },
      "source": [
        "log_df = log_df.select(\"utc_time_id\", \"source_id\", \"primary_link_source_flag\", \"avg_speed\",\n",
        "              \"avg_flow\", \"avg_occ\", \"avg_freeflow_speed\", \"avg_travel_time\",\n",
        "              \"high_quality_samples\", \"samples_below_100pct_ff\", \"samples_below_95pct_ff\",\n",
        "              \"samples_below_90pct_ff\", \"samples_below_85pct_ff\", \"samples_below_80pct_ff\",\n",
        "              \"samples_below_75pct_ff\", \"samples_below_70pct_ff\", \"samples_below_65pct_ff\",\n",
        "              \"samples_below_60pct_ff\", \"samples_below_55pct_ff\", \"samples_below_50pct_ff\",\n",
        "              \"samples_below_45pct_ff\", \"samples_below_40pct_ff\", \"samples_below_35pct_ff\",\n",
        "              \"samples_below_30pct_ff\", \"samples_below_25pct_ff\", \"samples_below_20pct_ff\")\n",
        "log_df.show(2)"
      ],
      "execution_count": null,
      "outputs": [
        {
          "name": "stdout",
          "output_type": "stream",
          "text": [
            "+-------------------+---------+------------------------+---------+--------+-------+------------------+---------------+--------------------+-----------------------+----------------------+----------------------+----------------------+----------------------+----------------------+----------------------+----------------------+----------------------+----------------------+----------------------+----------------------+----------------------+----------------------+----------------------+----------------------+----------------------+\n",
            "|        utc_time_id|source_id|primary_link_source_flag|avg_speed|avg_flow|avg_occ|avg_freeflow_speed|avg_travel_time|high_quality_samples|samples_below_100pct_ff|samples_below_95pct_ff|samples_below_90pct_ff|samples_below_85pct_ff|samples_below_80pct_ff|samples_below_75pct_ff|samples_below_70pct_ff|samples_below_65pct_ff|samples_below_60pct_ff|samples_below_55pct_ff|samples_below_50pct_ff|samples_below_45pct_ff|samples_below_40pct_ff|samples_below_35pct_ff|samples_below_30pct_ff|samples_below_25pct_ff|samples_below_20pct_ff|\n",
            "+-------------------+---------+------------------------+---------+--------+-------+------------------+---------------+--------------------+-----------------------+----------------------+----------------------+----------------------+----------------------+----------------------+----------------------+----------------------+----------------------+----------------------+----------------------+----------------------+----------------------+----------------------+----------------------+----------------------+----------------------+\n",
            "|2016-08-22 00:00:06|   400001|                       1|    .0061|      86|      0|                 0|              0|                   2|                  .0117|                    86|                     0|                     0|                     0|                     1|                 .0067|                    71|                      |                      |                      |                      |                      |                      |                      |                      |                      |\n",
            "|2016-08-22 00:00:06|   400010|                       1|    .0067|      78|      3|             .0206|             71|                   4|                  .0228|                    78|                     3|                   .02|                    65|                      |                      |                      |                      |                      |                      |                      |                      |                      |                      |                      |                      |\n",
            "+-------------------+---------+------------------------+---------+--------+-------+------------------+---------------+--------------------+-----------------------+----------------------+----------------------+----------------------+----------------------+----------------------+----------------------+----------------------+----------------------+----------------------+----------------------+----------------------+----------------------+----------------------+----------------------+----------------------+----------------------+\n",
            "only showing top 2 rows\n",
            "\n"
          ]
        }
      ]
    },
    {
      "cell_type": "code",
      "metadata": {
        "id": "QNHULI0uUlnm"
      },
      "source": [
        "# log_df.printSchema()"
      ],
      "execution_count": null,
      "outputs": []
    },
    {
      "cell_type": "code",
      "metadata": {
        "colab": {
          "base_uri": "https://localhost:8080/"
        },
        "id": "q67lPrMZf9n3",
        "outputId": "10980397-1e4d-4db5-ddb0-92843b8a0946"
      },
      "source": [
        "limited_df = log_df.limit(100000)\n",
        "limited_df.show(2)"
      ],
      "execution_count": null,
      "outputs": [
        {
          "name": "stdout",
          "output_type": "stream",
          "text": [
            "+-------------------+---------+------------------------+---------+--------+-------+------------------+---------------+--------------------+-----------------------+----------------------+----------------------+----------------------+----------------------+----------------------+----------------------+----------------------+----------------------+----------------------+----------------------+----------------------+----------------------+----------------------+----------------------+----------------------+----------------------+\n",
            "|        utc_time_id|source_id|primary_link_source_flag|avg_speed|avg_flow|avg_occ|avg_freeflow_speed|avg_travel_time|high_quality_samples|samples_below_100pct_ff|samples_below_95pct_ff|samples_below_90pct_ff|samples_below_85pct_ff|samples_below_80pct_ff|samples_below_75pct_ff|samples_below_70pct_ff|samples_below_65pct_ff|samples_below_60pct_ff|samples_below_55pct_ff|samples_below_50pct_ff|samples_below_45pct_ff|samples_below_40pct_ff|samples_below_35pct_ff|samples_below_30pct_ff|samples_below_25pct_ff|samples_below_20pct_ff|\n",
            "+-------------------+---------+------------------------+---------+--------+-------+------------------+---------------+--------------------+-----------------------+----------------------+----------------------+----------------------+----------------------+----------------------+----------------------+----------------------+----------------------+----------------------+----------------------+----------------------+----------------------+----------------------+----------------------+----------------------+----------------------+\n",
            "|2016-08-22 00:00:06|   400001|                       1|    .0061|      86|      0|                 0|              0|                   2|                  .0117|                    86|                     0|                     0|                     0|                     1|                 .0067|                    71|                      |                      |                      |                      |                      |                      |                      |                      |                      |\n",
            "|2016-08-22 00:00:06|   400010|                       1|    .0067|      78|      3|             .0206|             71|                   4|                  .0228|                    78|                     3|                   .02|                    65|                      |                      |                      |                      |                      |                      |                      |                      |                      |                      |                      |                      |\n",
            "+-------------------+---------+------------------------+---------+--------+-------+------------------+---------------+--------------------+-----------------------+----------------------+----------------------+----------------------+----------------------+----------------------+----------------------+----------------------+----------------------+----------------------+----------------------+----------------------+----------------------+----------------------+----------------------+----------------------+----------------------+\n",
            "only showing top 2 rows\n",
            "\n"
          ]
        }
      ]
    },
    {
      "cell_type": "code",
      "metadata": {
        "id": "jRACnyyNheac"
      },
      "source": [
        "log_df1 = log_df.subtract(limited_df)"
      ],
      "execution_count": null,
      "outputs": []
    },
    {
      "cell_type": "code",
      "metadata": {
        "colab": {
          "background_save": true
        },
        "id": "oxorlmbHHDwo"
      },
      "source": [
        "#use ngrok to expose the my-sql server\n",
        "log_df1.repartition(10).write.format('jdbc').options(\n",
        "      numPartitions = \"5\",\n",
        "      url='jdbc:mysql://8.tcp.ngrok.io:11051/sensor_db?useSSL=false&autoReconnect=true&useUnicode=true&characterEncoding=UTF-8&maxAllowedPacket=16777216&rewriteBatchedStatements=true',\n",
        "      batchsize=\"100000\",\n",
        "      driver='com.mysql.jdbc.Driver',\n",
        "      dbtable='sensordata',\n",
        "      user='',\n",
        "      password='').mode('append').save()"
      ],
      "execution_count": null,
      "outputs": []
    },
    {
      "cell_type": "code",
      "metadata": {
        "colab": {
          "background_save": true
        },
        "id": "mYUt8348wzIm"
      },
      "source": [
        "# !wget https://anson.ucdavis.edu/~clarkf/richards.csv.gz  --no-check-certificate | tar -xz"
      ],
      "execution_count": null,
      "outputs": []
    },
    {
      "cell_type": "code",
      "metadata": {
        "colab": {
          "background_save": true
        },
        "id": "Lj5N3GUlCODF"
      },
      "source": [
        "# !gzip -d /content/drive/MyDrive/speech/richards.csv.gz"
      ],
      "execution_count": null,
      "outputs": []
    },
    {
      "cell_type": "code",
      "metadata": {
        "colab": {
          "background_save": true
        },
        "id": "C8mvsJWbuwmY"
      },
      "source": [
        "# !tar -xf \"/content/drive/MyDrive/speech/d04_text_station_raw_2016_08_22.txt.gz\" -C \"/content/drive/MyDrive/speech/sensor/\""
      ],
      "execution_count": null,
      "outputs": []
    },
    {
      "cell_type": "code",
      "metadata": {
        "colab": {
          "background_save": true
        },
        "id": "b_nvuWExuwzW"
      },
      "source": [
        "# f = open(\"/content/drive/MyDrive/speech/d04_text_station_raw_2016_08_22.txt\", \"r\")\n",
        "# print(f.readlines(3))"
      ],
      "execution_count": null,
      "outputs": []
    },
    {
      "cell_type": "code",
      "metadata": {
        "colab": {
          "background_save": true
        },
        "id": "tBqT9iI3uw0i"
      },
      "source": [
        "# def read_lines(fname,n,mode='r+'):\n",
        "# \twith open(fname) as f:\n",
        "# \t\tfor i in range(n):\n",
        "# \t\t\tprint(f.readline())\n",
        "\n",
        "# read_lines('/content/drive/MyDrive/speech/d04_text_station_raw_2016_08_22.txt',5)"
      ],
      "execution_count": null,
      "outputs": []
    },
    {
      "cell_type": "code",
      "metadata": {
        "colab": {
          "background_save": true
        },
        "id": "rBHBJsMPuw1k"
      },
      "source": [
        ""
      ],
      "execution_count": null,
      "outputs": []
    },
    {
      "cell_type": "code",
      "metadata": {
        "colab": {
          "background_save": true
        },
        "id": "8xMWW9Oauw23"
      },
      "source": [
        ""
      ],
      "execution_count": null,
      "outputs": []
    },
    {
      "cell_type": "code",
      "metadata": {
        "colab": {
          "background_save": true
        },
        "id": "U04LzPAUuw8G"
      },
      "source": [
        ""
      ],
      "execution_count": null,
      "outputs": []
    }
  ]
}